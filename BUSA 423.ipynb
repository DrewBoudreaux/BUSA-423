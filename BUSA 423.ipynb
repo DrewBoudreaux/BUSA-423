{
 "cells": [
  {
   "cell_type": "code",
   "execution_count": 1,
   "id": "1522f13c",
   "metadata": {},
   "outputs": [
    {
     "name": "stdout",
     "output_type": "stream",
     "text": [
      "335\n"
     ]
    }
   ],
   "source": [
    "import random\n",
    "choices = ['heads','tails']\n",
    "\n",
    "def count_streaks(results):\n",
    "    streaks, current_streak, current_count = 0,results[0],0\n",
    "    for i in range(len(results)):\n",
    "        if results[i]==current_streak:\n",
    "            current_count+=1\n",
    "        else:\n",
    "            if current_count>=5:\n",
    "                streaks+=1\n",
    "            current_streak, current_count = results[i],1 #updating current\n",
    "    return streaks\n",
    "\n",
    "results = random.choices(choices,k=10000)\n",
    "print(count_streaks(results))"
   ]
  },
  {
   "cell_type": "code",
   "execution_count": 2,
   "id": "8004bad3",
   "metadata": {},
   "outputs": [
    {
     "name": "stdout",
     "output_type": "stream",
     "text": [
      "Enter the number of swords: 4\n",
      "Enter the number of diamonds: 10\n",
      "Enter the number of gold coins: 6\n",
      "Enter the number of rope: 3\n",
      "Enter the number of potions: 2\n",
      "swords 4\n",
      "diamonds 10\n",
      "gold coins 6\n",
      "rope 3\n",
      "potions 2\n"
     ]
    }
   ],
   "source": [
    " items = ['swords','diamonds','gold coins','rope','potions']\n",
    "inventory = {}\n",
    "\n",
    "for item in items:\n",
    "    inventory[item] = int(input('Enter the number of {}: '.format(item)))\n",
    "\n",
    "for item,cnt in inventory.items():\n",
    "    print(item,cnt)\n",
    "    "
   ]
  },
  {
   "cell_type": "code",
   "execution_count": 3,
   "id": "42e8efda",
   "metadata": {},
   "outputs": [
    {
     "name": "stdout",
     "output_type": "stream",
     "text": [
      "Winner for the following game is Player 1\n"
     ]
    }
   ],
   "source": [
    "import random\n",
    "\n",
    "num_iterations, num_players = 10,3\n",
    "scores = [0]*num_players #initializing scores to 0\n",
    "\n",
    "for i in range(num_iterations):\n",
    "    #every player throws the dice\n",
    "    for player in range(num_players):\n",
    "        scores[player] += random.randint(1,6) #adding current outcome to the score of the player\n",
    "\n",
    "winner = max(enumerate(scores), key=lambda scores:scores[1])[0] + 1 #adding 1 because indexing starts from 0\n",
    "print('Winner for the following game is Player {}'.format(winner))"
   ]
  },
  {
   "cell_type": "code",
   "execution_count": null,
   "id": "83c74052",
   "metadata": {},
   "outputs": [],
   "source": []
  }
 ],
 "metadata": {
  "kernelspec": {
   "display_name": "Python 3 (ipykernel)",
   "language": "python",
   "name": "python3"
  },
  "language_info": {
   "codemirror_mode": {
    "name": "ipython",
    "version": 3
   },
   "file_extension": ".py",
   "mimetype": "text/x-python",
   "name": "python",
   "nbconvert_exporter": "python",
   "pygments_lexer": "ipython3",
   "version": "3.9.12"
  }
 },
 "nbformat": 4,
 "nbformat_minor": 5
}
