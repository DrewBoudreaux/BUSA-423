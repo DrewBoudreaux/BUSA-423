{
 "cells": [
  {
   "cell_type": "code",
   "execution_count": 14,
   "id": "26076e83",
   "metadata": {},
   "outputs": [
    {
     "name": "stdout",
     "output_type": "stream",
     "text": [
      "Enter the student's records : \n",
      "Enter first name of the student: Josh\n",
      "Enter last name of the student: Brad\n",
      "Enter the country of the student: USA\n",
      "Enter overall grade of the student: 80\n",
      "Overall grade needs to be in the range 0 to 4.\n",
      "Please enter the overall grade of the student again: 3\n",
      "Enter credits completed: 40\n",
      "Credits completed need to be in the range 0 to 30.\n",
      "Please enter the overall grade of the student again: 30\n",
      "Enter the major of the student: accounting\n"
     ]
    }
   ],
   "source": [
    "class record:\n",
    " \n",
    "    print(\"Enter the student's records : \")  \n",
    "    firstname = input(\"Enter first name of the student: \")\n",
    "    lastname = input(\"Enter last name of the student: \")\n",
    "    country = input(\"Enter the country of the student: \")\n",
    "\n",
    "    over_grade = float(input(\"Enter overall grade of the student: \"))\n",
    "    while(over_grade <0 or over_grade>4.0):\n",
    "      over_grade= float(input(\"Overall grade needs to be in the range 0 to 4.\\nPlease enter the overall grade of the student again: \"))\n",
    "\n",
    "    creds_completed = int(input(\"Enter credits completed: \"))\n",
    "    while(creds_completed<0 or creds_completed > 30):\n",
    "      creds_completed= int(input(\"Credits completed need to be in the range 0 to 30.\\nPlease enter the overall grade of the student again: \"))\n",
    "\n",
    "\n",
    "    major = input(\"Enter the major of the student: \")\n",
    "    \n",
    "     \n",
    "    \n",
    "    def evaluate(self):\n",
    "      if(self.over_grade>3.0 and self.creds_completed>20):\n",
    "        print(\"\\nGOOD\\n\")\n",
    " \n",
    "      if(self.over_grade>2.5 and (self.creds_completed>=10 and self.creds_completed<=20)):\n",
    "        print(\"\\nAVERAGE\\n\")\n",
    "        \n",
    "\n",
    "      if(self.over_grade<2.5 ):\n",
    "        print(\"\\nBAD\\n\")\n",
    "        \n",
    "\n",
    " \n",
    " \n",
    " \n",
    "x1 = record()\n",
    "x1.evaluate()"
   ]
  },
  {
   "cell_type": "code",
   "execution_count": 12,
   "id": "a2359753",
   "metadata": {},
   "outputs": [
    {
     "name": "stdout",
     "output_type": "stream",
     "text": [
      "[5, 1, 0, 9, 3]\n",
      "[-6, -3, -2, -8]\n"
     ]
    }
   ],
   "source": [
    "def positive_negative(lst): \n",
    "  \n",
    "    pos = [ ] \n",
    "    neg = [ ] \n",
    "  \n",
    "   \n",
    "    for i in lst: \n",
    "        if i >= 0: \n",
    "            pos.append(i) \n",
    "        else: \n",
    "            neg.append(i) \n",
    "              \n",
    "    print(pos) \n",
    "    print(neg) \n",
    "  \n",
    "  \n",
    "\n",
    "lst = [-6, 5, -3, -2, 1, 0, -8, 9, 3] \n",
    "positive_negative(lst)"
   ]
  },
  {
   "cell_type": "code",
   "execution_count": 13,
   "id": "0eee558b",
   "metadata": {},
   "outputs": [
    {
     "name": "stdout",
     "output_type": "stream",
     "text": [
      "[[18, 0], [18, 1]]\n"
     ]
    }
   ],
   "source": [
    "def winning_possibilities(score):\n",
    "\n",
    " possibilities = []\n",
    " \n",
    " for i in range(15,22):\n",
    " \n",
    "  for j in range(2):\n",
    "  \n",
    "   if i == score:\n",
    "   \n",
    "    possibilities.append([i,j])\n",
    "    \n",
    " return possibilities\n",
    " \n",
    "print(winning_possibilities(18))"
   ]
  },
  {
   "cell_type": "code",
   "execution_count": null,
   "id": "94a24ef5",
   "metadata": {},
   "outputs": [],
   "source": [
    "The first program has a time complexity of O(n), since it loops through the input list once. The second program has a time complexity of O(n^2), since it loops through the input list twice."
   ]
  }
 ],
 "metadata": {
  "kernelspec": {
   "display_name": "Python 3 (ipykernel)",
   "language": "python",
   "name": "python3"
  },
  "language_info": {
   "codemirror_mode": {
    "name": "ipython",
    "version": 3
   },
   "file_extension": ".py",
   "mimetype": "text/x-python",
   "name": "python",
   "nbconvert_exporter": "python",
   "pygments_lexer": "ipython3",
   "version": "3.9.12"
  }
 },
 "nbformat": 4,
 "nbformat_minor": 5
}
